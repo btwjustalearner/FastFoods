{
 "cells": [
  {
   "cell_type": "code",
   "execution_count": 2,
   "metadata": {},
   "outputs": [],
   "source": [
    "import csv\n",
    "from textblob import TextBlob"
   ]
  },
  {
   "cell_type": "code",
   "execution_count": 6,
   "metadata": {},
   "outputs": [
    {
     "name": "stdout",
     "output_type": "stream",
     "text": [
      "Final\n",
      "-16.911095328282826 101 -0.16911095328282827\n"
     ]
    }
   ],
   "source": [
    "total_sentiment = 0\n",
    "\n",
    "with open('Data.csv', encoding = 'UTF-8') as csv_file:\n",
    "    csv_reader = csv.reader(csv_file,delimiter=',')\n",
    "    line_count = 0\n",
    "    for row in csv_reader:\n",
    "        if line_count == 0:\n",
    "            line_count += 1\n",
    "        else:\n",
    "            txt = row[1]\n",
    "            sentiment = TextBlob(txt).polarity\n",
    "            total_sentiment += sentiment\n",
    "            line_count += 1\n",
    "    print('Final')\n",
    "    print(total_sentiment, line_count,total_sentiment/(line_count-1))"
   ]
  },
  {
   "cell_type": "code",
   "execution_count": null,
   "metadata": {},
   "outputs": [],
   "source": []
  }
 ],
 "metadata": {
  "kernelspec": {
   "display_name": "Python 3",
   "language": "python",
   "name": "python3"
  },
  "language_info": {
   "codemirror_mode": {
    "name": "ipython",
    "version": 3
   },
   "file_extension": ".py",
   "mimetype": "text/x-python",
   "name": "python",
   "nbconvert_exporter": "python",
   "pygments_lexer": "ipython3",
   "version": "3.6.5"
  }
 },
 "nbformat": 4,
 "nbformat_minor": 2
}
